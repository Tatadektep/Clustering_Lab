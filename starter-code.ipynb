{
 "cells": [
  {
   "cell_type": "markdown",
   "id": "3de8dfbc-045e-4bdc-bcb7-70ade09cc205",
   "metadata": {
    "tags": []
   },
   "source": [
    "<img src=\"http://imgur.com/1ZcRyrc.png\" style=\"float: left; margin: 20px; height: 55px\">\n",
    "\n",
    "# DBSCAN vs. K-Means\n",
    "\n",
    "_Author: Katie Sylvia_\n",
    " \n",
    " In **Unsupervised Learning** we have different type of algorithms such as:\n",
    " \n",
    "1. Clustering\n",
    "2. PCA\n",
    "2. Association Rules\n",
    "3. Recommendation Engines\n",
    "\n",
    "\n",
    "In **Clustering** we have talked about:\n",
    "1. K-Means Clustering\n",
    "2. DBSCAN Clustering\n",
    "\n",
    "In this notebook, we will mainly discuss *DBSCAN Clustering*\n",
    "\n",
    "As you recall from yesterday, there are some disadvantages in K-Means Clustering. Among them are that K-Means is sensitive to outliers and does not perform well with non-spherical shapes of clusters.\n",
    "   \n",
    "   To deal with this we have *Density Based Spatial Clustering (DBSCAN)*:\n",
    "   \n",
    "     - It is mainly used to find outliers and to deal with non-spherical data\n",
    "     - Clustering is mainly done based on density of data points (where more number of data points are present).\n"
   ]
  },
  {
   "cell_type": "code",
   "execution_count": null,
   "id": "aa6699bd-c785-4157-81e4-ef5cd2967d76",
   "metadata": {},
   "outputs": [],
   "source": [
    "# Something new to install...\n",
    "#! pip install plotly"
   ]
  },
  {
   "cell_type": "code",
   "execution_count": null,
   "id": "a60e2da2-795e-40c3-a3b8-19ad8bfebb5b",
   "metadata": {},
   "outputs": [],
   "source": [
    "# Standard imports\n",
    "import numpy as np\n",
    "import pandas as pd\n",
    "import matplotlib.pyplot as plt\n",
    "import seaborn as sns\n",
    "\n",
    "# Something new to import...\n",
    "import plotly.express as px\n",
    "\n",
    "# Imports from sklearn\n",
    "from sklearn.preprocessing import StandardScaler\n",
    "from sklearn.metrics import silhouette_score\n",
    "from sklearn.cluster import DBSCAN, KMeans\n",
    "\n",
    "# Setting formatting of floats to be five places past the decimal\n",
    "pd.options.display.float_format = '{:.5f}'.format"
   ]
  },
  {
   "cell_type": "markdown",
   "id": "4498344e-2bb1-43ec-a41a-3659a9db7ac5",
   "metadata": {},
   "source": [
    "### I. Get Data Ready"
   ]
  },
  {
   "cell_type": "code",
   "execution_count": null,
   "id": "353dc588-c274-4d83-afcc-643f63e5e169",
   "metadata": {},
   "outputs": [],
   "source": [
    "# From Plotly, we'll import the Gapminder data\n",
    "df = px.data.gapminder()"
   ]
  },
  {
   "cell_type": "code",
   "execution_count": null,
   "id": "56f7b246-3072-4b78-a045-2bdf64be6515",
   "metadata": {},
   "outputs": [],
   "source": [
    "# Head\n"
   ]
  },
  {
   "cell_type": "code",
   "execution_count": null,
   "id": "5ffe9891-45cb-4226-8387-6ce796b31d46",
   "metadata": {},
   "outputs": [],
   "source": [
    "# Info\n"
   ]
  },
  {
   "cell_type": "code",
   "execution_count": null,
   "id": "3ef6aacd-6b19-41fa-b19b-bf5489a8e6b1",
   "metadata": {},
   "outputs": [],
   "source": [
    "# Nulls\n"
   ]
  },
  {
   "cell_type": "code",
   "execution_count": null,
   "id": "787231e9-d368-4778-91c3-bda3a45a9a50",
   "metadata": {},
   "outputs": [],
   "source": [
    "# Filter Data to Most Recent Year\n"
   ]
  },
  {
   "cell_type": "code",
   "execution_count": null,
   "id": "83d53ed9-4cf2-466a-bc09-6ffe0782e245",
   "metadata": {},
   "outputs": [],
   "source": [
    "# Set Country to Index\n"
   ]
  },
  {
   "cell_type": "code",
   "execution_count": null,
   "id": "a7285db9-f65b-4387-a697-8751430b1e99",
   "metadata": {},
   "outputs": [],
   "source": [
    "# Drop `iso_alpha`, `year`, and `iso_num`\n"
   ]
  },
  {
   "cell_type": "code",
   "execution_count": null,
   "id": "ce4c7348-de57-4714-936b-572b394c6425",
   "metadata": {},
   "outputs": [],
   "source": [
    "# How many countries in each continent?\n"
   ]
  },
  {
   "cell_type": "code",
   "execution_count": null,
   "id": "0da0c91c-ca5b-4da3-a72e-ce8b123403b2",
   "metadata": {},
   "outputs": [],
   "source": [
    "# Get dummies!\n",
    "\n"
   ]
  },
  {
   "cell_type": "code",
   "execution_count": null,
   "id": "cc70ce22-0bde-4584-8eff-55ee8723625b",
   "metadata": {},
   "outputs": [],
   "source": [
    "# Head (again!)\n",
    "\n"
   ]
  },
  {
   "cell_type": "code",
   "execution_count": null,
   "id": "498cfb1f-3be1-492a-a154-a8f7d9db5f7b",
   "metadata": {},
   "outputs": [],
   "source": [
    "# Define X\n",
    "\n",
    "X = "
   ]
  },
  {
   "cell_type": "code",
   "execution_count": null,
   "id": "2414a664-a8e4-439b-af5f-2db2e3c3814b",
   "metadata": {},
   "outputs": [],
   "source": [
    "# Scale Features\n"
   ]
  },
  {
   "cell_type": "markdown",
   "id": "c2b0a218-e9c2-4ec0-a64a-16899bbd925e",
   "metadata": {},
   "source": [
    "### II. K-Means Clustering Model"
   ]
  },
  {
   "cell_type": "code",
   "execution_count": null,
   "id": "711759ef-aebe-45f1-8bab-91bc7137157a",
   "metadata": {},
   "outputs": [],
   "source": [
    "# Elbow Plot\n",
    "\n",
    "inertia_list = []\n",
    "\n",
    "for k in range(1, 21):"
   ]
  },
  {
   "cell_type": "code",
   "execution_count": null,
   "id": "a3967939-98c9-4d62-9980-d1e45046b8f2",
   "metadata": {},
   "outputs": [],
   "source": [
    "# Silhouette Score\n",
    "\n",
    "silhouette_list = []\n",
    "\n",
    "for k in range(2, 21):"
   ]
  },
  {
   "cell_type": "markdown",
   "id": "2eebe35f-4c30-4276-b027-bc90d60098fb",
   "metadata": {},
   "source": [
    "#### Based off of our metrics above, which k should we try first?"
   ]
  },
  {
   "cell_type": "markdown",
   "id": "4378c1c4-4859-4edf-997c-59f90be62c25",
   "metadata": {},
   "source": [
    "Answer Here:\n",
    "\n"
   ]
  },
  {
   "cell_type": "code",
   "execution_count": null,
   "id": "318e00a3-0fdf-4894-8457-4bf59469b7e4",
   "metadata": {},
   "outputs": [],
   "source": [
    "# Now let's try it!\n",
    "\n",
    "# Instantiate & Fit\n"
   ]
  },
  {
   "cell_type": "code",
   "execution_count": null,
   "id": "c77a7bfb-46f5-4318-9359-5ffcd90be8dc",
   "metadata": {},
   "outputs": [],
   "source": [
    "# Silhouette Score\n"
   ]
  },
  {
   "cell_type": "markdown",
   "id": "97b123a5-9792-44c8-8c5c-b5b19f261815",
   "metadata": {
    "tags": []
   },
   "source": [
    "#### Visualize Your Clusters!"
   ]
  },
  {
   "cell_type": "code",
   "execution_count": null,
   "id": "6b1a3cbc-eb7d-4f65-82fc-3072240302ae",
   "metadata": {},
   "outputs": [],
   "source": [
    "# Add cluster column\n",
    "\n"
   ]
  },
  {
   "cell_type": "code",
   "execution_count": null,
   "id": "919a3a00-3d1e-473b-9c87-5772fad74809",
   "metadata": {},
   "outputs": [],
   "source": [
    "# Method 1: Pairplots/Scatterplots\n",
    "\n"
   ]
  },
  {
   "cell_type": "code",
   "execution_count": null,
   "id": "1a548d4c-44c5-4a58-bb90-3a857b8cd89d",
   "metadata": {},
   "outputs": [],
   "source": [
    "# Method 2: Groupby\n",
    "\n"
   ]
  },
  {
   "cell_type": "markdown",
   "id": "9704b31f-8e5b-49fb-ac11-4a065a2899a8",
   "metadata": {},
   "source": [
    "#### An Even Closer Look...Which countries are in each of these clusters?"
   ]
  },
  {
   "cell_type": "code",
   "execution_count": null,
   "id": "7874433e-9ab4-44d5-9f74-159ddb9e4890",
   "metadata": {},
   "outputs": [],
   "source": [
    "# For loop\n",
    "\n"
   ]
  },
  {
   "cell_type": "markdown",
   "id": "b283de92-895d-4fd8-af45-207c47da72a7",
   "metadata": {
    "tags": []
   },
   "source": [
    "### III. [In Groups] DBSCAN Clustering Model\n",
    "\n",
    "- Try tuning your parameters\n",
    "- Visualize your clusters\n",
    "- Determine your best silhouette score\n",
    "- Is this better or worse than KMeans?\n",
    "- Which countries are in each cluster?"
   ]
  },
  {
   "cell_type": "code",
   "execution_count": null,
   "id": "4e4b0733-1b2a-4c8d-b255-df85bb4fd8cd",
   "metadata": {},
   "outputs": [],
   "source": []
  },
  {
   "cell_type": "code",
   "execution_count": null,
   "id": "c96e9e7a-d69d-4ac7-ba1b-35bc7758838e",
   "metadata": {},
   "outputs": [],
   "source": []
  },
  {
   "cell_type": "code",
   "execution_count": null,
   "id": "b8b77867-5e46-4b30-a4e3-2b20c562c4a7",
   "metadata": {},
   "outputs": [],
   "source": []
  },
  {
   "cell_type": "code",
   "execution_count": null,
   "id": "f4657067-5652-499c-a820-33ab47987d6e",
   "metadata": {},
   "outputs": [],
   "source": []
  },
  {
   "cell_type": "code",
   "execution_count": null,
   "id": "17a84597-247b-41c0-95ce-56cf4f93442a",
   "metadata": {},
   "outputs": [],
   "source": []
  },
  {
   "cell_type": "code",
   "execution_count": null,
   "id": "a7c6690a-8478-4700-ac24-8f46d46de389",
   "metadata": {},
   "outputs": [],
   "source": []
  },
  {
   "cell_type": "code",
   "execution_count": null,
   "id": "2b9ed374-cfb7-44a6-8d74-d2ad5d2796ca",
   "metadata": {},
   "outputs": [],
   "source": []
  },
  {
   "cell_type": "code",
   "execution_count": null,
   "id": "004abe84-351b-44ed-a242-8581afdada89",
   "metadata": {},
   "outputs": [],
   "source": []
  },
  {
   "cell_type": "code",
   "execution_count": null,
   "id": "6252dca0-e578-477f-860d-2d4b0d812f64",
   "metadata": {},
   "outputs": [],
   "source": []
  },
  {
   "cell_type": "code",
   "execution_count": null,
   "id": "8bbad202-9393-4b90-b886-edd9a770f41b",
   "metadata": {},
   "outputs": [],
   "source": []
  },
  {
   "cell_type": "code",
   "execution_count": null,
   "id": "6bb1c56e-0eb1-4e9e-8ba0-625edf64673c",
   "metadata": {},
   "outputs": [],
   "source": []
  },
  {
   "cell_type": "code",
   "execution_count": null,
   "id": "9b6cd32b-9506-450b-b5e0-4487b4aaccfb",
   "metadata": {},
   "outputs": [],
   "source": []
  },
  {
   "cell_type": "code",
   "execution_count": null,
   "id": "9e1a53e1-5b87-48f5-8a3d-cf80f8b81aa7",
   "metadata": {},
   "outputs": [],
   "source": []
  },
  {
   "cell_type": "code",
   "execution_count": null,
   "id": "0558c695-2a26-48e5-a469-3895cf1daeda",
   "metadata": {},
   "outputs": [],
   "source": []
  },
  {
   "cell_type": "code",
   "execution_count": null,
   "id": "77b3beeb-c39d-40e2-8e19-16c67a9b639c",
   "metadata": {},
   "outputs": [],
   "source": []
  },
  {
   "cell_type": "code",
   "execution_count": null,
   "id": "3009dd68-98f9-405d-a001-c1761eda04c6",
   "metadata": {},
   "outputs": [],
   "source": []
  },
  {
   "cell_type": "markdown",
   "id": "e09af143-bbea-4717-9973-389e52a5ef51",
   "metadata": {},
   "source": [
    "### ⭐ There are pros & cons for both DBSCAN and K-Means Clustering Models. Again, since this is unsupervised it is not easy to know which method you should use until you dive into your data! Keep exploring and diving into your data 💫 "
   ]
  }
 ],
 "metadata": {
  "kernelspec": {
   "display_name": "Python 3 (ipykernel)",
   "language": "python",
   "name": "python3"
  },
  "language_info": {
   "codemirror_mode": {
    "name": "ipython",
    "version": 3
   },
   "file_extension": ".py",
   "mimetype": "text/x-python",
   "name": "python",
   "nbconvert_exporter": "python",
   "pygments_lexer": "ipython3",
   "version": "3.9.12"
  }
 },
 "nbformat": 4,
 "nbformat_minor": 5
}
